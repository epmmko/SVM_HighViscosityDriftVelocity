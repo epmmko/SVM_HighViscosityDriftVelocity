{
 "cells": [
  {
   "cell_type": "markdown",
   "metadata": {},
   "source": [
    "Victor Pugliese ____________Github link:https://github.com/VictorPuglieseManotas e-mail: victor.pugliese@ttu.edu\n",
    "\n",
    "Dr. Raymond Eghorieta __________________________________________________________ e-mail: raymond.eghorieta@ttu.edu\n",
    "\n",
    "Dr. Ekarit Panacharoensawad_Github link:https://github.com/epmmko ______________ e-mail: ekarit.panacharoensawad@ttu.edu"
   ]
  },
  {
   "cell_type": "markdown",
   "metadata": {},
   "source": [
    "# Drift Velocity Analysis"
   ]
  },
  {
   "cell_type": "markdown",
   "metadata": {},
   "source": [
    "## 1. Introduction"
   ]
  },
  {
   "cell_type": "markdown",
   "metadata": {},
   "source": [
    "Dimensionles gruoups have been applied by many researchers to estimate the rise velocity of a single bubble moving in liquid in pipe under the influence of gravitational, inertial, viscous and interfacial forces. These are: Reynolds Number, Eotvos number, Viscosyty Number, Bouyancy Reynolds Number and Froud Number.\n",
    "The objetive of this analysis is to find a model to relate the Froud Number with the rest of dimensionless group. Then, we could use Davies and Taylor (1950) clousure relationship combined with Bendiksen (1984), to calculate the drift velocity."
   ]
  },
  {
   "cell_type": "code",
   "execution_count": 1,
   "metadata": {},
   "outputs": [],
   "source": [
    "#Libraries used\n",
    "%matplotlib inline                 \n",
    "import os                          \n",
    "import numpy as np                 \n",
    "import pandas as pd                \n",
    "import matplotlib.pyplot as plt    \n",
    "import time\n",
    "import warnings\n",
    "warnings.filterwarnings('ignore')  #Never print matching warnings"
   ]
  },
  {
   "cell_type": "markdown",
   "metadata": {},
   "source": [
    "## 2. Data Preparation\n",
    "### 2.1. Load Data\n",
    "The information is taken from the excel file in VictorPuglieseManotas's repository named Research. In this way, any person could download the raw data: https://github.com/VictorPuglieseManotas/Research/blob/master/Drift_Velocity_Analysis.xlsx. This file is saved in a local directory."
   ]
  },
  {
   "cell_type": "code",
   "execution_count": 2,
   "metadata": {},
   "outputs": [
    {
     "data": {
      "text/html": [
       "<div>\n",
       "<style scoped>\n",
       "    .dataframe tbody tr th:only-of-type {\n",
       "        vertical-align: middle;\n",
       "    }\n",
       "\n",
       "    .dataframe tbody tr th {\n",
       "        vertical-align: top;\n",
       "    }\n",
       "\n",
       "    .dataframe thead th {\n",
       "        text-align: right;\n",
       "    }\n",
       "</style>\n",
       "<table border=\"1\" class=\"dataframe\">\n",
       "  <thead>\n",
       "    <tr style=\"text-align: right;\">\n",
       "      <th></th>\n",
       "      <th>Inclination [°]</th>\n",
       "      <th>Cos(Angle)</th>\n",
       "      <th>Sin(Angle)</th>\n",
       "      <th>Temperature [C]</th>\n",
       "      <th>rhoL [kg/m3]</th>\n",
       "      <th>rhoG [kg/m3]</th>\n",
       "      <th>muL [Pa.s]</th>\n",
       "      <th>sigma [N/m]</th>\n",
       "      <th>Liquid Type</th>\n",
       "      <th>Diameter [m]</th>\n",
       "      <th>Drift Velocity [m/s]</th>\n",
       "      <th>Reynolds Number Re</th>\n",
       "      <th>Buoyancy Reynolds R</th>\n",
       "      <th>Eotvos Number Eo</th>\n",
       "      <th>Viscosity Number Nmu</th>\n",
       "      <th>Froud Number Fr</th>\n",
       "    </tr>\n",
       "  </thead>\n",
       "  <tbody>\n",
       "    <tr>\n",
       "      <th>107</th>\n",
       "      <td>30.0</td>\n",
       "      <td>8.660254e-01</td>\n",
       "      <td>0.500000</td>\n",
       "      <td>32.41</td>\n",
       "      <td>881.0</td>\n",
       "      <td>1.155749</td>\n",
       "      <td>0.256</td>\n",
       "      <td>0.0295</td>\n",
       "      <td>Oil</td>\n",
       "      <td>0.1524</td>\n",
       "      <td>0.593</td>\n",
       "      <td>0.408003</td>\n",
       "      <td>640.750092</td>\n",
       "      <td>6793.199892</td>\n",
       "      <td>0.001562</td>\n",
       "      <td>0.485386</td>\n",
       "    </tr>\n",
       "    <tr>\n",
       "      <th>115</th>\n",
       "      <td>90.0</td>\n",
       "      <td>6.125742e-17</td>\n",
       "      <td>1.000000</td>\n",
       "      <td>40.80</td>\n",
       "      <td>876.0</td>\n",
       "      <td>1.124848</td>\n",
       "      <td>0.154</td>\n",
       "      <td>0.0295</td>\n",
       "      <td>Oil</td>\n",
       "      <td>0.1524</td>\n",
       "      <td>0.475</td>\n",
       "      <td>0.528752</td>\n",
       "      <td>1059.112665</td>\n",
       "      <td>6754.833917</td>\n",
       "      <td>0.000945</td>\n",
       "      <td>0.388794</td>\n",
       "    </tr>\n",
       "    <tr>\n",
       "      <th>70</th>\n",
       "      <td>50.0</td>\n",
       "      <td>6.427876e-01</td>\n",
       "      <td>0.766044</td>\n",
       "      <td>22.50</td>\n",
       "      <td>887.0</td>\n",
       "      <td>1.194509</td>\n",
       "      <td>0.645</td>\n",
       "      <td>0.0295</td>\n",
       "      <td>Oil</td>\n",
       "      <td>0.0508</td>\n",
       "      <td>0.257</td>\n",
       "      <td>0.024178</td>\n",
       "      <td>49.275063</td>\n",
       "      <td>759.914011</td>\n",
       "      <td>0.020308</td>\n",
       "      <td>0.364362</td>\n",
       "    </tr>\n",
       "    <tr>\n",
       "      <th>27</th>\n",
       "      <td>20.0</td>\n",
       "      <td>9.396926e-01</td>\n",
       "      <td>0.342020</td>\n",
       "      <td>50.00</td>\n",
       "      <td>869.0</td>\n",
       "      <td>1.092809</td>\n",
       "      <td>0.104</td>\n",
       "      <td>0.0295</td>\n",
       "      <td>Oil</td>\n",
       "      <td>0.0508</td>\n",
       "      <td>0.316</td>\n",
       "      <td>0.168679</td>\n",
       "      <td>299.411928</td>\n",
       "      <td>744.559434</td>\n",
       "      <td>0.003342</td>\n",
       "      <td>0.447990</td>\n",
       "    </tr>\n",
       "    <tr>\n",
       "      <th>80</th>\n",
       "      <td>50.0</td>\n",
       "      <td>6.427876e-01</td>\n",
       "      <td>0.766044</td>\n",
       "      <td>16.10</td>\n",
       "      <td>891.0</td>\n",
       "      <td>1.220953</td>\n",
       "      <td>0.934</td>\n",
       "      <td>0.0295</td>\n",
       "      <td>Oil</td>\n",
       "      <td>0.0508</td>\n",
       "      <td>0.232</td>\n",
       "      <td>0.015406</td>\n",
       "      <td>34.181331</td>\n",
       "      <td>763.322842</td>\n",
       "      <td>0.029276</td>\n",
       "      <td>0.328922</td>\n",
       "    </tr>\n",
       "  </tbody>\n",
       "</table>\n",
       "</div>"
      ],
      "text/plain": [
       "     Inclination [°]    Cos(Angle)  Sin(Angle)  Temperature [C]  rhoL [kg/m3]  \\\n",
       "107             30.0  8.660254e-01    0.500000            32.41         881.0   \n",
       "115             90.0  6.125742e-17    1.000000            40.80         876.0   \n",
       "70              50.0  6.427876e-01    0.766044            22.50         887.0   \n",
       "27              20.0  9.396926e-01    0.342020            50.00         869.0   \n",
       "80              50.0  6.427876e-01    0.766044            16.10         891.0   \n",
       "\n",
       "     rhoG [kg/m3]  muL [Pa.s]  sigma [N/m] Liquid Type  Diameter [m]  \\\n",
       "107      1.155749       0.256       0.0295         Oil        0.1524   \n",
       "115      1.124848       0.154       0.0295         Oil        0.1524   \n",
       "70       1.194509       0.645       0.0295         Oil        0.0508   \n",
       "27       1.092809       0.104       0.0295         Oil        0.0508   \n",
       "80       1.220953       0.934       0.0295         Oil        0.0508   \n",
       "\n",
       "     Drift Velocity [m/s]  Reynolds Number Re  Buoyancy Reynolds R  \\\n",
       "107                 0.593            0.408003           640.750092   \n",
       "115                 0.475            0.528752          1059.112665   \n",
       "70                  0.257            0.024178            49.275063   \n",
       "27                  0.316            0.168679           299.411928   \n",
       "80                  0.232            0.015406            34.181331   \n",
       "\n",
       "     Eotvos Number Eo  Viscosity Number Nmu  Froud Number Fr  \n",
       "107       6793.199892              0.001562         0.485386  \n",
       "115       6754.833917              0.000945         0.388794  \n",
       "70         759.914011              0.020308         0.364362  \n",
       "27         744.559434              0.003342         0.447990  \n",
       "80         763.322842              0.029276         0.328922  "
      ]
     },
     "execution_count": 2,
     "metadata": {},
     "output_type": "execute_result"
    }
   ],
   "source": [
    "Experimental_Data=pd.read_excel(r\"C:\\Users\\victo\\Train_Set_Drift_Velocity_Analysis_O.xlsx\")\n",
    "Experimental_Data=Experimental_Data.iloc[np.random.permutation(len(Experimental_Data))]\n",
    "\n",
    "D=np.asarray(Experimental_Data['Diameter [m]'])\n",
    "rho_L=np.asarray(Experimental_Data['rhoL [kg/m3]'])\n",
    "rho_G=np.asarray(Experimental_Data['rhoG [kg/m3]'])\n",
    "V_d_real=np.asarray(Experimental_Data['Drift Velocity [m/s]'])\n",
    "\n",
    "Experimental_Data.head()                                                                  "
   ]
  },
  {
   "cell_type": "markdown",
   "metadata": {},
   "source": [
    "Now, we only will use the dimensionless group and the unit vectors:"
   ]
  },
  {
   "cell_type": "code",
   "execution_count": 3,
   "metadata": {},
   "outputs": [
    {
     "data": {
      "text/html": [
       "<div>\n",
       "<style scoped>\n",
       "    .dataframe tbody tr th:only-of-type {\n",
       "        vertical-align: middle;\n",
       "    }\n",
       "\n",
       "    .dataframe tbody tr th {\n",
       "        vertical-align: top;\n",
       "    }\n",
       "\n",
       "    .dataframe thead th {\n",
       "        text-align: right;\n",
       "    }\n",
       "</style>\n",
       "<table border=\"1\" class=\"dataframe\">\n",
       "  <thead>\n",
       "    <tr style=\"text-align: right;\">\n",
       "      <th></th>\n",
       "      <th>Cos(Angle)</th>\n",
       "      <th>Sin(Angle)</th>\n",
       "      <th>Buoyancy Reynolds R</th>\n",
       "      <th>Eotvos Number Eo</th>\n",
       "      <th>Froud Number Fr</th>\n",
       "    </tr>\n",
       "  </thead>\n",
       "  <tbody>\n",
       "    <tr>\n",
       "      <th>107</th>\n",
       "      <td>8.660254e-01</td>\n",
       "      <td>0.500000</td>\n",
       "      <td>640.750092</td>\n",
       "      <td>6793.199892</td>\n",
       "      <td>0.485386</td>\n",
       "    </tr>\n",
       "    <tr>\n",
       "      <th>115</th>\n",
       "      <td>6.125742e-17</td>\n",
       "      <td>1.000000</td>\n",
       "      <td>1059.112665</td>\n",
       "      <td>6754.833917</td>\n",
       "      <td>0.388794</td>\n",
       "    </tr>\n",
       "    <tr>\n",
       "      <th>70</th>\n",
       "      <td>6.427876e-01</td>\n",
       "      <td>0.766044</td>\n",
       "      <td>49.275063</td>\n",
       "      <td>759.914011</td>\n",
       "      <td>0.364362</td>\n",
       "    </tr>\n",
       "    <tr>\n",
       "      <th>27</th>\n",
       "      <td>9.396926e-01</td>\n",
       "      <td>0.342020</td>\n",
       "      <td>299.411928</td>\n",
       "      <td>744.559434</td>\n",
       "      <td>0.447990</td>\n",
       "    </tr>\n",
       "    <tr>\n",
       "      <th>80</th>\n",
       "      <td>6.427876e-01</td>\n",
       "      <td>0.766044</td>\n",
       "      <td>34.181331</td>\n",
       "      <td>763.322842</td>\n",
       "      <td>0.328922</td>\n",
       "    </tr>\n",
       "  </tbody>\n",
       "</table>\n",
       "</div>"
      ],
      "text/plain": [
       "       Cos(Angle)  Sin(Angle)  Buoyancy Reynolds R  Eotvos Number Eo  \\\n",
       "107  8.660254e-01    0.500000           640.750092       6793.199892   \n",
       "115  6.125742e-17    1.000000          1059.112665       6754.833917   \n",
       "70   6.427876e-01    0.766044            49.275063        759.914011   \n",
       "27   9.396926e-01    0.342020           299.411928        744.559434   \n",
       "80   6.427876e-01    0.766044            34.181331        763.322842   \n",
       "\n",
       "     Froud Number Fr  \n",
       "107         0.485386  \n",
       "115         0.388794  \n",
       "70          0.364362  \n",
       "27          0.447990  \n",
       "80          0.328922  "
      ]
     },
     "execution_count": 3,
     "metadata": {},
     "output_type": "execute_result"
    }
   ],
   "source": [
    "Experimental_Data=Experimental_Data.drop(Experimental_Data.columns[[0,3,4,5,6,7,8,9,10,11,14]], axis=1)\n",
    "Experimental_Data.head()"
   ]
  },
  {
   "cell_type": "markdown",
   "metadata": {},
   "source": [
    "### 2.2. Creating the Train and Test set\n",
    "The train set will be the experimental data gathered from other researchers. On the other hand, the Test set will be the experimental data obtained by the authors of this document in the Petroleum Engineering Labs in Texas Tech University.\n",
    "\n",
    "Analizing the data set, we suggest a polinomial relationship between the sinoidal functions and the Froud number. Similarly, we suggest a logaritmic relationship between the Eotvos number, Buoyancy Reynolds number and Froud Number."
   ]
  },
  {
   "cell_type": "code",
   "execution_count": 4,
   "metadata": {},
   "outputs": [
    {
     "data": {
      "text/html": [
       "<div>\n",
       "<style scoped>\n",
       "    .dataframe tbody tr th:only-of-type {\n",
       "        vertical-align: middle;\n",
       "    }\n",
       "\n",
       "    .dataframe tbody tr th {\n",
       "        vertical-align: top;\n",
       "    }\n",
       "\n",
       "    .dataframe thead th {\n",
       "        text-align: right;\n",
       "    }\n",
       "</style>\n",
       "<table border=\"1\" class=\"dataframe\">\n",
       "  <thead>\n",
       "    <tr style=\"text-align: right;\">\n",
       "      <th></th>\n",
       "      <th>Cos(Angle)</th>\n",
       "      <th>Sin(Angle)</th>\n",
       "      <th>Cos(Angle)^2</th>\n",
       "      <th>Cos(Angle)^3</th>\n",
       "      <th>Sin(Angle)^2</th>\n",
       "      <th>Sin(Angle)^3</th>\n",
       "      <th>Ln(Eo)</th>\n",
       "      <th>Ln(R)</th>\n",
       "    </tr>\n",
       "  </thead>\n",
       "  <tbody>\n",
       "    <tr>\n",
       "      <th>107</th>\n",
       "      <td>8.660254e-01</td>\n",
       "      <td>0.500000</td>\n",
       "      <td>7.500000e-01</td>\n",
       "      <td>6.495191e-01</td>\n",
       "      <td>0.250000</td>\n",
       "      <td>0.125000</td>\n",
       "      <td>8.823677</td>\n",
       "      <td>6.462640</td>\n",
       "    </tr>\n",
       "    <tr>\n",
       "      <th>115</th>\n",
       "      <td>6.125742e-17</td>\n",
       "      <td>1.000000</td>\n",
       "      <td>3.752472e-33</td>\n",
       "      <td>2.298668e-49</td>\n",
       "      <td>1.000000</td>\n",
       "      <td>1.000000</td>\n",
       "      <td>8.818014</td>\n",
       "      <td>6.965187</td>\n",
       "    </tr>\n",
       "    <tr>\n",
       "      <th>70</th>\n",
       "      <td>6.427876e-01</td>\n",
       "      <td>0.766044</td>\n",
       "      <td>4.131759e-01</td>\n",
       "      <td>2.655844e-01</td>\n",
       "      <td>0.586824</td>\n",
       "      <td>0.449533</td>\n",
       "      <td>6.633205</td>\n",
       "      <td>3.897418</td>\n",
       "    </tr>\n",
       "    <tr>\n",
       "      <th>27</th>\n",
       "      <td>9.396926e-01</td>\n",
       "      <td>0.342020</td>\n",
       "      <td>8.830222e-01</td>\n",
       "      <td>8.297695e-01</td>\n",
       "      <td>0.116978</td>\n",
       "      <td>0.040009</td>\n",
       "      <td>6.612793</td>\n",
       "      <td>5.701820</td>\n",
       "    </tr>\n",
       "    <tr>\n",
       "      <th>80</th>\n",
       "      <td>6.427876e-01</td>\n",
       "      <td>0.766044</td>\n",
       "      <td>4.131759e-01</td>\n",
       "      <td>2.655844e-01</td>\n",
       "      <td>0.586824</td>\n",
       "      <td>0.449533</td>\n",
       "      <td>6.637681</td>\n",
       "      <td>3.531680</td>\n",
       "    </tr>\n",
       "  </tbody>\n",
       "</table>\n",
       "</div>"
      ],
      "text/plain": [
       "       Cos(Angle)  Sin(Angle)  Cos(Angle)^2  Cos(Angle)^3  Sin(Angle)^2  \\\n",
       "107  8.660254e-01    0.500000  7.500000e-01  6.495191e-01      0.250000   \n",
       "115  6.125742e-17    1.000000  3.752472e-33  2.298668e-49      1.000000   \n",
       "70   6.427876e-01    0.766044  4.131759e-01  2.655844e-01      0.586824   \n",
       "27   9.396926e-01    0.342020  8.830222e-01  8.297695e-01      0.116978   \n",
       "80   6.427876e-01    0.766044  4.131759e-01  2.655844e-01      0.586824   \n",
       "\n",
       "     Sin(Angle)^3    Ln(Eo)     Ln(R)  \n",
       "107      0.125000  8.823677  6.462640  \n",
       "115      1.000000  8.818014  6.965187  \n",
       "70       0.449533  6.633205  3.897418  \n",
       "27       0.040009  6.612793  5.701820  \n",
       "80       0.449533  6.637681  3.531680  "
      ]
     },
     "execution_count": 4,
     "metadata": {},
     "output_type": "execute_result"
    }
   ],
   "source": [
    "Dimensionless_Labels=Experimental_Data['Froud Number Fr']\n",
    "Dimensionless_Attributes=Experimental_Data.drop('Froud Number Fr',axis=1)\n",
    "Dimensionless_Attributes_for_eval=Dimensionless_Attributes                                  #Copy for evalatuation of the model\n",
    "Dimensionless_Attributes['Cos(Angle)^2']=Dimensionless_Attributes['Cos(Angle)']**2\n",
    "Dimensionless_Attributes['Cos(Angle)^3']=Dimensionless_Attributes['Cos(Angle)']**3\n",
    "Dimensionless_Attributes['Sin(Angle)^2']=Dimensionless_Attributes['Sin(Angle)']**2\n",
    "Dimensionless_Attributes['Sin(Angle)^3']=Dimensionless_Attributes['Sin(Angle)']**3\n",
    "Dimensionless_Attributes['Ln(Eo)']=np.log(Dimensionless_Attributes['Eotvos Number Eo'])\n",
    "Dimensionless_Attributes['Ln(R)']=np.log(Dimensionless_Attributes['Buoyancy Reynolds R'])\n",
    "Dimensionless_Attributes=Dimensionless_Attributes.drop('Eotvos Number Eo',axis=1)\n",
    "Dimensionless_Attributes=Dimensionless_Attributes.drop('Buoyancy Reynolds R',axis=1)\n",
    "Dimensionless_Attributes.head()"
   ]
  },
  {
   "cell_type": "markdown",
   "metadata": {},
   "source": [
    "## 3. Machine Learning Model\n",
    "### 3.1. Preprocessing\n",
    "\"Many elements used in the objective function of a learning algorithm (such as the RBF kernel of Support Vector Machines or the l1 and l2 regularizers of linear models) assume that all features are centered around zero and have variance in the same order. If a feature has a variance that is orders of magnitude larger than others, it might dominate the objective function and make the estimator unable to learn from other features correctly as expected\". [1]"
   ]
  },
  {
   "cell_type": "code",
   "execution_count": 5,
   "metadata": {},
   "outputs": [],
   "source": [
    "from sklearn import preprocessing\n",
    "scaler=preprocessing.RobustScaler().fit(Dimensionless_Attributes)\n",
    "Dimensionless_Attributes_Scaled=scaler.transform(Dimensionless_Attributes)"
   ]
  },
  {
   "cell_type": "markdown",
   "metadata": {},
   "source": [
    "### 3.2. Support Vector Regressor"
   ]
  },
  {
   "cell_type": "code",
   "execution_count": 6,
   "metadata": {},
   "outputs": [
    {
     "data": {
      "text/plain": [
       "SVR(C=100, cache_size=200, coef0=0.0, degree=3, epsilon=0.1, gamma='auto',\n",
       "  kernel='rbf', max_iter=-1, shrinking=True, tol=0.001, verbose=False)"
      ]
     },
     "execution_count": 6,
     "metadata": {},
     "output_type": "execute_result"
    }
   ],
   "source": [
    "from sklearn.svm import SVR\n",
    "svr_rbf_reg = SVR(kernel=\"rbf\",C=100,epsilon=0.1)\n",
    "svr_rbf_reg"
   ]
  },
  {
   "cell_type": "markdown",
   "metadata": {},
   "source": [
    "### 3.2. Training the Model\n",
    "The problem of Drift Velocity has been addressed. The initial experiment data has been clean and modified in order to have features that are related with the Froud Number. Also, we have shuffled the instances. The training set is used in this stage to fit the model parameters. However, we will test it using the test set. In the following code, we perform the training procedure, we obtain a measurement of its perfomance (custom function: average relative error) and the time required to be fitted and to predict."
   ]
  },
  {
   "cell_type": "code",
   "execution_count": 7,
   "metadata": {
    "scrolled": true
   },
   "outputs": [
    {
     "name": "stdout",
     "output_type": "stream",
     "text": [
      "SVR  average_relative_error:  0.13795733771883842\n",
      "SVR  Time:  0.0019948482513427734\n"
     ]
    }
   ],
   "source": [
    "def relative_error(y_true, y_pred):\n",
    "    rel_error=np.sum(np.divide(np.abs(y_true-y_pred),np.mean(y_true)))/len(y_true)\n",
    "    return rel_error\n",
    "\n",
    "start = time.time()\n",
    "svr_rbf_reg.fit(Dimensionless_Attributes_Scaled,Dimensionless_Labels)\n",
    "y_pred=svr_rbf_reg.predict(Dimensionless_Attributes_Scaled)\n",
    "print(svr_rbf_reg.__class__.__name__,' average_relative_error: ',relative_error(Dimensionless_Labels,y_pred))\n",
    "end = time.time()\n",
    "print(svr_rbf_reg.__class__.__name__,' Time: ',end - start)"
   ]
  },
  {
   "cell_type": "markdown",
   "metadata": {},
   "source": [
    "### 3.3. Tunnig the Model"
   ]
  },
  {
   "cell_type": "code",
   "execution_count": 8,
   "metadata": {},
   "outputs": [
    {
     "name": "stdout",
     "output_type": "stream",
     "text": [
      "34.76105570793152\n",
      "0.08260601844087863 {'C': 5, 'epsilon': 0.0001, 'kernel': 'rbf'}\n",
      "19.402679645430236 {'C': 5, 'epsilon': 0.0001, 'kernel': 'sigmoid'}\n",
      "0.08241986161679284 {'C': 5, 'epsilon': 0.0005, 'kernel': 'rbf'}\n",
      "19.377189010836947 {'C': 5, 'epsilon': 0.0005, 'kernel': 'sigmoid'}\n",
      "0.08197603422421554 {'C': 5, 'epsilon': 0.001, 'kernel': 'rbf'}\n",
      "19.392027942285956 {'C': 5, 'epsilon': 0.001, 'kernel': 'sigmoid'}\n",
      "0.07671971326857879 {'C': 5, 'epsilon': 0.005, 'kernel': 'rbf'}\n",
      "19.4567524481372 {'C': 5, 'epsilon': 0.005, 'kernel': 'sigmoid'}\n",
      "0.07259700356182813 {'C': 5, 'epsilon': 0.008, 'kernel': 'rbf'}\n",
      "19.424422791965252 {'C': 5, 'epsilon': 0.008, 'kernel': 'sigmoid'}\n",
      "0.07207891671637796 {'C': 5, 'epsilon': 0.01, 'kernel': 'rbf'}\n",
      "19.408029950930736 {'C': 5, 'epsilon': 0.01, 'kernel': 'sigmoid'}\n",
      "0.0795255426872115 {'C': 5, 'epsilon': 0.02, 'kernel': 'rbf'}\n",
      "19.533601356486905 {'C': 5, 'epsilon': 0.02, 'kernel': 'sigmoid'}\n",
      "0.10965266790584102 {'C': 5, 'epsilon': 0.05, 'kernel': 'rbf'}\n",
      "19.135363366351903 {'C': 5, 'epsilon': 0.05, 'kernel': 'sigmoid'}\n",
      "0.16363784086848399 {'C': 5, 'epsilon': 0.1, 'kernel': 'rbf'}\n",
      "22.0294668523255 {'C': 5, 'epsilon': 0.1, 'kernel': 'sigmoid'}\n",
      "0.26055443660018596 {'C': 5, 'epsilon': 0.2, 'kernel': 'rbf'}\n",
      "0.25439748642637494 {'C': 5, 'epsilon': 0.2, 'kernel': 'sigmoid'}\n",
      "0.08096815322768945 {'C': 6, 'epsilon': 0.0001, 'kernel': 'rbf'}\n",
      "23.349955894406815 {'C': 6, 'epsilon': 0.0001, 'kernel': 'sigmoid'}\n",
      "0.08061885110373802 {'C': 6, 'epsilon': 0.0005, 'kernel': 'rbf'}\n",
      "23.33671044336489 {'C': 6, 'epsilon': 0.0005, 'kernel': 'sigmoid'}\n",
      "0.0803137866259464 {'C': 6, 'epsilon': 0.001, 'kernel': 'rbf'}\n",
      "23.334679752210793 {'C': 6, 'epsilon': 0.001, 'kernel': 'sigmoid'}\n",
      "0.07559095252346813 {'C': 6, 'epsilon': 0.005, 'kernel': 'rbf'}\n",
      "23.3314888163888 {'C': 6, 'epsilon': 0.005, 'kernel': 'sigmoid'}\n",
      "0.07221194779342824 {'C': 6, 'epsilon': 0.008, 'kernel': 'rbf'}\n",
      "23.34393799136544 {'C': 6, 'epsilon': 0.008, 'kernel': 'sigmoid'}\n",
      "0.07044613322963604 {'C': 6, 'epsilon': 0.01, 'kernel': 'rbf'}\n",
      "23.246634380266517 {'C': 6, 'epsilon': 0.01, 'kernel': 'sigmoid'}\n",
      "0.07872164346029645 {'C': 6, 'epsilon': 0.02, 'kernel': 'rbf'}\n",
      "23.43861357476398 {'C': 6, 'epsilon': 0.02, 'kernel': 'sigmoid'}\n",
      "0.10934135556683279 {'C': 6, 'epsilon': 0.05, 'kernel': 'rbf'}\n",
      "23.124931934575052 {'C': 6, 'epsilon': 0.05, 'kernel': 'sigmoid'}\n",
      "0.16146148686085765 {'C': 6, 'epsilon': 0.1, 'kernel': 'rbf'}\n",
      "24.054610883820715 {'C': 6, 'epsilon': 0.1, 'kernel': 'sigmoid'}\n",
      "0.26055443660018596 {'C': 6, 'epsilon': 0.2, 'kernel': 'rbf'}\n",
      "0.25439748642637494 {'C': 6, 'epsilon': 0.2, 'kernel': 'sigmoid'}\n",
      "0.07932221132734722 {'C': 7, 'epsilon': 0.0001, 'kernel': 'rbf'}\n",
      "27.26430871488857 {'C': 7, 'epsilon': 0.0001, 'kernel': 'sigmoid'}\n",
      "0.07842021408124722 {'C': 7, 'epsilon': 0.0005, 'kernel': 'rbf'}\n",
      "27.26364251773814 {'C': 7, 'epsilon': 0.0005, 'kernel': 'sigmoid'}\n",
      "0.0780061966984748 {'C': 7, 'epsilon': 0.001, 'kernel': 'rbf'}\n",
      "27.26427077076021 {'C': 7, 'epsilon': 0.001, 'kernel': 'sigmoid'}\n",
      "0.07338414540544543 {'C': 7, 'epsilon': 0.005, 'kernel': 'rbf'}\n",
      "27.273716975973993 {'C': 7, 'epsilon': 0.005, 'kernel': 'sigmoid'}\n",
      "0.07133860435784668 {'C': 7, 'epsilon': 0.008, 'kernel': 'rbf'}\n",
      "27.248616631841077 {'C': 7, 'epsilon': 0.008, 'kernel': 'sigmoid'}\n",
      "0.06944539301577053 {'C': 7, 'epsilon': 0.01, 'kernel': 'rbf'}\n",
      "27.21262032682396 {'C': 7, 'epsilon': 0.01, 'kernel': 'sigmoid'}\n",
      "0.07847886424083836 {'C': 7, 'epsilon': 0.02, 'kernel': 'rbf'}\n",
      "27.257843502812456 {'C': 7, 'epsilon': 0.02, 'kernel': 'sigmoid'}\n",
      "0.10959088425090074 {'C': 7, 'epsilon': 0.05, 'kernel': 'rbf'}\n",
      "27.160189285399063 {'C': 7, 'epsilon': 0.05, 'kernel': 'sigmoid'}\n",
      "0.16144911978839357 {'C': 7, 'epsilon': 0.1, 'kernel': 'rbf'}\n",
      "26.816032356790355 {'C': 7, 'epsilon': 0.1, 'kernel': 'sigmoid'}\n",
      "0.26055443660018596 {'C': 7, 'epsilon': 0.2, 'kernel': 'rbf'}\n",
      "0.25439748642637494 {'C': 7, 'epsilon': 0.2, 'kernel': 'sigmoid'}\n",
      "0.07681035143002209 {'C': 8, 'epsilon': 0.0001, 'kernel': 'rbf'}\n",
      "31.120377907490887 {'C': 8, 'epsilon': 0.0001, 'kernel': 'sigmoid'}\n",
      "0.07606031192015923 {'C': 8, 'epsilon': 0.0005, 'kernel': 'rbf'}\n",
      "31.120660895934723 {'C': 8, 'epsilon': 0.0005, 'kernel': 'sigmoid'}\n",
      "0.07553619728976899 {'C': 8, 'epsilon': 0.001, 'kernel': 'rbf'}\n",
      "31.12686192935466 {'C': 8, 'epsilon': 0.001, 'kernel': 'sigmoid'}\n",
      "0.07232814375241894 {'C': 8, 'epsilon': 0.005, 'kernel': 'rbf'}\n",
      "31.10837527272448 {'C': 8, 'epsilon': 0.005, 'kernel': 'sigmoid'}\n",
      "0.0703234522881014 {'C': 8, 'epsilon': 0.008, 'kernel': 'rbf'}\n",
      "31.06461237470557 {'C': 8, 'epsilon': 0.008, 'kernel': 'sigmoid'}\n",
      "0.06857640425778465 {'C': 8, 'epsilon': 0.01, 'kernel': 'rbf'}\n",
      "31.06844571550525 {'C': 8, 'epsilon': 0.01, 'kernel': 'sigmoid'}\n",
      "0.07864746349515891 {'C': 8, 'epsilon': 0.02, 'kernel': 'rbf'}\n",
      "31.08140273811768 {'C': 8, 'epsilon': 0.02, 'kernel': 'sigmoid'}\n",
      "0.11023827344639225 {'C': 8, 'epsilon': 0.05, 'kernel': 'rbf'}\n",
      "31.14207651242537 {'C': 8, 'epsilon': 0.05, 'kernel': 'sigmoid'}\n",
      "0.15915752805287797 {'C': 8, 'epsilon': 0.1, 'kernel': 'rbf'}\n",
      "30.72045252844966 {'C': 8, 'epsilon': 0.1, 'kernel': 'sigmoid'}\n",
      "0.26055443660018596 {'C': 8, 'epsilon': 0.2, 'kernel': 'rbf'}\n",
      "0.25439748642637494 {'C': 8, 'epsilon': 0.2, 'kernel': 'sigmoid'}\n",
      "0.07419779521297613 {'C': 9, 'epsilon': 0.0001, 'kernel': 'rbf'}\n",
      "35.12647792908973 {'C': 9, 'epsilon': 0.0001, 'kernel': 'sigmoid'}\n",
      "0.07352303997706791 {'C': 9, 'epsilon': 0.0005, 'kernel': 'rbf'}\n",
      "35.12886038602691 {'C': 9, 'epsilon': 0.0005, 'kernel': 'sigmoid'}\n",
      "0.0736031503377146 {'C': 9, 'epsilon': 0.001, 'kernel': 'rbf'}\n",
      "35.095852800252885 {'C': 9, 'epsilon': 0.001, 'kernel': 'sigmoid'}\n",
      "0.0713494037702327 {'C': 9, 'epsilon': 0.005, 'kernel': 'rbf'}\n",
      "35.111834918636475 {'C': 9, 'epsilon': 0.005, 'kernel': 'sigmoid'}\n",
      "0.06946191550516252 {'C': 9, 'epsilon': 0.008, 'kernel': 'rbf'}\n",
      "35.08699103220548 {'C': 9, 'epsilon': 0.008, 'kernel': 'sigmoid'}\n",
      "0.06855731527420228 {'C': 9, 'epsilon': 0.01, 'kernel': 'rbf'}\n",
      "35.16792541680552 {'C': 9, 'epsilon': 0.01, 'kernel': 'sigmoid'}\n",
      "0.07870881644687437 {'C': 9, 'epsilon': 0.02, 'kernel': 'rbf'}\n",
      "34.996441517661395 {'C': 9, 'epsilon': 0.02, 'kernel': 'sigmoid'}\n",
      "0.10963590878386822 {'C': 9, 'epsilon': 0.05, 'kernel': 'rbf'}\n",
      "35.052674484217825 {'C': 9, 'epsilon': 0.05, 'kernel': 'sigmoid'}\n",
      "0.15912062318810466 {'C': 9, 'epsilon': 0.1, 'kernel': 'rbf'}\n",
      "34.88553977594974 {'C': 9, 'epsilon': 0.1, 'kernel': 'sigmoid'}\n",
      "0.26055443660018596 {'C': 9, 'epsilon': 0.2, 'kernel': 'rbf'}\n",
      "0.25439748642637494 {'C': 9, 'epsilon': 0.2, 'kernel': 'sigmoid'}\n",
      "0.07159792332081626 {'C': 10, 'epsilon': 0.0001, 'kernel': 'rbf'}\n",
      "39.04365962476301 {'C': 10, 'epsilon': 0.0001, 'kernel': 'sigmoid'}\n",
      "0.07168854483448632 {'C': 10, 'epsilon': 0.0005, 'kernel': 'rbf'}\n",
      "39.05708358691893 {'C': 10, 'epsilon': 0.0005, 'kernel': 'sigmoid'}\n",
      "0.07193065041473194 {'C': 10, 'epsilon': 0.001, 'kernel': 'rbf'}\n",
      "39.05916828723236 {'C': 10, 'epsilon': 0.001, 'kernel': 'sigmoid'}\n",
      "0.07067498639086948 {'C': 10, 'epsilon': 0.005, 'kernel': 'rbf'}\n",
      "39.03480025652752 {'C': 10, 'epsilon': 0.005, 'kernel': 'sigmoid'}\n",
      "0.06949849675165726 {'C': 10, 'epsilon': 0.008, 'kernel': 'rbf'}\n",
      "39.02449819314791 {'C': 10, 'epsilon': 0.008, 'kernel': 'sigmoid'}\n",
      "0.06893580400262489 {'C': 10, 'epsilon': 0.01, 'kernel': 'rbf'}\n",
      "39.14536210041651 {'C': 10, 'epsilon': 0.01, 'kernel': 'sigmoid'}\n",
      "0.07813783562526293 {'C': 10, 'epsilon': 0.02, 'kernel': 'rbf'}\n",
      "38.856513885239316 {'C': 10, 'epsilon': 0.02, 'kernel': 'sigmoid'}\n",
      "0.11015780728109405 {'C': 10, 'epsilon': 0.05, 'kernel': 'rbf'}\n",
      "38.65548524316198 {'C': 10, 'epsilon': 0.05, 'kernel': 'sigmoid'}\n",
      "0.15912062318810466 {'C': 10, 'epsilon': 0.1, 'kernel': 'rbf'}\n",
      "38.83707158506671 {'C': 10, 'epsilon': 0.1, 'kernel': 'sigmoid'}\n",
      "0.26055443660018596 {'C': 10, 'epsilon': 0.2, 'kernel': 'rbf'}\n",
      "0.25439748642637494 {'C': 10, 'epsilon': 0.2, 'kernel': 'sigmoid'}\n"
     ]
    }
   ],
   "source": [
    "from sklearn.metrics import make_scorer\n",
    "score_rel_error=make_scorer(relative_error, greater_is_better=False)\n",
    "\n",
    "from sklearn.model_selection import GridSearchCV\n",
    "param_grid=[{'kernel':['rbf','sigmoid'],'C':[5,6,7,8,9,10],\n",
    "            'epsilon':[0.0001,0.0005,0.001,0.005,0.008,0.01,0.02,0.05,0.1,0.2]}]\n",
    "svr_reg=SVR()\n",
    "grid_search=GridSearchCV(svr_reg,param_grid,cv=100,scoring=score_rel_error)\n",
    "start = time.time()\n",
    "grid_search.fit(Dimensionless_Attributes_Scaled,Dimensionless_Labels)\n",
    "end = time.time()\n",
    "print(end - start)\n",
    "cvres=grid_search.cv_results_\n",
    "for mean_score,params in zip(cvres[\"mean_test_score\"],cvres[\"params\"]):\n",
    "    print((-mean_score),params)"
   ]
  },
  {
   "cell_type": "code",
   "execution_count": 9,
   "metadata": {},
   "outputs": [
    {
     "data": {
      "text/plain": [
       "SVR(C=9, cache_size=200, coef0=0.0, degree=3, epsilon=0.01, gamma='auto',\n",
       "  kernel='rbf', max_iter=-1, shrinking=True, tol=0.001, verbose=False)"
      ]
     },
     "execution_count": 9,
     "metadata": {},
     "output_type": "execute_result"
    }
   ],
   "source": [
    "grid_search.best_estimator_"
   ]
  },
  {
   "cell_type": "markdown",
   "metadata": {},
   "source": [
    "### 3.3.1. Support Vectors, Dual Coefficient & Intercept"
   ]
  },
  {
   "cell_type": "code",
   "execution_count": 10,
   "metadata": {},
   "outputs": [
    {
     "data": {
      "text/plain": [
       "array([[ 0.00000000e+00,  0.00000000e+00,  0.00000000e+00,\n",
       "         0.00000000e+00,  0.00000000e+00,  0.00000000e+00,\n",
       "         7.02303893e+00,  1.01683834e+00],\n",
       "       [ 1.12610948e-01, -1.85305599e-01,  1.51951400e-01,\n",
       "         1.90013552e-01, -1.51951400e-01, -1.02509327e-01,\n",
       "        -6.54464019e-02,  5.85390151e-01],\n",
       "       [-3.41251112e-01,  3.12062094e-01, -3.84754452e-01,\n",
       "        -4.04730254e-01,  3.84754452e-01,  3.91424952e-01,\n",
       "         1.43501385e-02, -6.45261320e-01],\n",
       "       [ 1.81575924e-01, -3.82800827e-01,  2.51130633e-01,\n",
       "         3.22145352e-01, -2.51130633e-01, -1.44449156e-01,\n",
       "         7.00488007e+00,  1.30182468e+00],\n",
       "       [ 2.04566641e-01, -5.66013748e-01,  2.85227290e-01,\n",
       "         3.68982915e-01, -2.85227290e-01, -1.50758130e-01,\n",
       "         2.66007075e-01, -6.17999189e-01],\n",
       "       [ 0.00000000e+00,  0.00000000e+00,  0.00000000e+00,\n",
       "         0.00000000e+00,  0.00000000e+00,  0.00000000e+00,\n",
       "         7.04105086e+00,  5.62143037e-01],\n",
       "       [ 2.04799461e-01, -5.86484893e-01,  2.85575219e-01,\n",
       "         3.69464505e-01, -2.85575219e-01, -1.50764541e-01,\n",
       "        -3.98269891e-02,  3.28190592e-01],\n",
       "       [ 2.03344531e-01, -5.35320670e-01,  2.83401820e-01,\n",
       "         3.66457376e-01, -2.83401820e-01, -1.50664443e-01,\n",
       "         2.66007075e-01, -6.17999189e-01],\n",
       "       [ 2.04566641e-01, -5.66013748e-01,  2.85227290e-01,\n",
       "         3.68982915e-01, -2.85227290e-01, -1.50758130e-01,\n",
       "         9.60180948e-01,  4.39671447e-01],\n",
       "       [ 1.98982509e-01, -4.84253840e-01,  2.76898161e-01,\n",
       "         3.57476000e-01, -2.76898161e-01, -1.49966037e-01,\n",
       "         3.80606509e+00, -1.48395527e-01],\n",
       "       [ 2.04799461e-01, -5.86484893e-01,  2.85575219e-01,\n",
       "         3.69464505e-01, -2.85575219e-01, -1.50764541e-01,\n",
       "         7.04105086e+00,  5.62143037e-01],\n",
       "       [-8.01017491e-01,  5.15746160e-01, -7.23101839e-01,\n",
       "        -6.42524000e-01,  7.23101839e-01,  8.50033963e-01,\n",
       "         0.00000000e+00, -4.37856963e-01],\n",
       "       [ 1.12610948e-01, -1.85305599e-01,  1.51951400e-01,\n",
       "         1.90013552e-01, -1.51951400e-01, -1.02509327e-01,\n",
       "        -3.98190516e-02,  2.63311046e-01],\n",
       "       [ 1.81575924e-01, -3.82800827e-01,  2.51130633e-01,\n",
       "         3.22145352e-01, -2.51130633e-01, -1.44449156e-01,\n",
       "         7.04105086e+00,  5.62143037e-01],\n",
       "       [-1.05839828e+00,  5.68664847e-01, -8.22281072e-01,\n",
       "        -6.79180058e-01,  8.22281072e-01,  1.00121184e+00,\n",
       "         2.86462543e-02, -8.24529902e-01],\n",
       "       [-8.01017491e-01,  5.15746160e-01, -7.23101839e-01,\n",
       "        -6.42524000e-01,  7.23101839e-01,  8.50033963e-01,\n",
       "         7.04105086e+00,  5.62143037e-01],\n",
       "       [ 2.04799461e-01, -5.86484893e-01,  2.85575219e-01,\n",
       "         3.69464505e-01, -2.85575219e-01, -1.50764541e-01,\n",
       "        -1.80411625e-02, -3.17772375e-03],\n",
       "       [ 2.04566641e-01, -5.66013748e-01,  2.85227290e-01,\n",
       "         3.68982915e-01, -2.85227290e-01, -1.50758130e-01,\n",
       "         3.80606509e+00, -1.48395527e-01],\n",
       "       [-3.41251112e-01,  3.12062094e-01, -3.84754452e-01,\n",
       "        -4.04730254e-01,  3.84754452e-01,  3.91424952e-01,\n",
       "         7.03387287e+00,  7.97758303e-01],\n",
       "       [ 2.04799461e-01, -5.86484893e-01,  2.85575219e-01,\n",
       "         3.69464505e-01, -2.85575219e-01, -1.50764541e-01,\n",
       "         7.18212802e-03, -4.76469392e-01],\n",
       "       [-1.05839828e+00,  5.68664847e-01, -8.22281072e-01,\n",
       "        -6.79180058e-01,  8.22281072e-01,  1.00121184e+00,\n",
       "         0.00000000e+00, -4.37856963e-01],\n",
       "       [ 2.03344531e-01, -5.35320670e-01,  2.83401820e-01,\n",
       "         3.66457376e-01, -2.83401820e-01, -1.50664443e-01,\n",
       "         4.50023897e+00,  9.09275110e-01],\n",
       "       [ 2.02704508e-01, -5.25096398e-01,  2.82446398e-01,\n",
       "         3.65136355e-01, -2.82446398e-01, -1.50591644e-01,\n",
       "        -2.13380262e+00,  1.27888118e-01],\n",
       "       [ 2.04799461e-01, -5.86484893e-01,  2.85575219e-01,\n",
       "         3.69464505e-01, -2.85575219e-01, -1.50764541e-01,\n",
       "        -2.16442885e-02,  2.19493065e-01],\n",
       "       [-5.59522533e-01,  4.29336740e-01, -5.71150439e-01,\n",
       "        -5.52929264e-01,  5.71150439e-01,  6.32630996e-01,\n",
       "         1.43501385e-02, -6.45261320e-01],\n",
       "       [ 1.81575924e-01, -3.82800827e-01,  2.51130633e-01,\n",
       "         3.22145352e-01, -2.51130633e-01, -1.44449156e-01,\n",
       "         0.00000000e+00, -4.37856963e-01],\n",
       "       [-3.41251112e-01,  3.12062094e-01, -3.84754452e-01,\n",
       "        -4.04730254e-01,  3.84754452e-01,  3.91424952e-01,\n",
       "        -6.54464019e-02,  5.85390151e-01],\n",
       "       [ 1.98982509e-01, -4.84253840e-01,  2.76898161e-01,\n",
       "         3.57476000e-01, -2.76898161e-01, -1.49966037e-01,\n",
       "         2.66007075e-01, -6.17999189e-01],\n",
       "       [-5.59522533e-01,  4.29336740e-01, -5.71150439e-01,\n",
       "        -5.52929264e-01,  5.71150439e-01,  6.32630996e-01,\n",
       "        -2.16525576e-02,  0.00000000e+00],\n",
       "       [ 1.12610948e-01, -1.85305599e-01,  1.51951400e-01,\n",
       "         1.90013552e-01, -1.51951400e-01, -1.02509327e-01,\n",
       "         1.43501385e-02, -6.45261320e-01],\n",
       "       [ 1.98982509e-01, -4.84253840e-01,  2.76898161e-01,\n",
       "         3.57476000e-01, -2.76898161e-01, -1.49966037e-01,\n",
       "        -2.13380262e+00,  1.30016727e-01],\n",
       "       [ 1.91721700e-01, -4.33381614e-01,  2.66113740e-01,\n",
       "         3.42639744e-01, -2.66113740e-01, -1.48082397e-01,\n",
       "         3.80606509e+00, -1.48395527e-01],\n",
       "       [ 0.00000000e+00,  0.00000000e+00,  0.00000000e+00,\n",
       "         0.00000000e+00,  0.00000000e+00,  0.00000000e+00,\n",
       "         1.43501385e-02, -6.45261320e-01],\n",
       "       [-1.32384453e+00,  5.86484893e-01, -8.56725658e-01,\n",
       "        -6.84699803e-01,  8.56725658e-01,  1.05535179e+00,\n",
       "         7.02303893e+00,  1.01683834e+00],\n",
       "       [ 2.04799461e-01, -5.86484893e-01,  2.85575219e-01,\n",
       "         3.69464505e-01, -2.85575219e-01, -1.50764541e-01,\n",
       "        -2.13380262e+00,  1.30624297e-01],\n",
       "       [-1.32384453e+00,  5.86484893e-01, -8.56725658e-01,\n",
       "        -6.84699803e-01,  8.56725658e-01,  1.05535179e+00,\n",
       "         2.86462543e-02, -8.24529902e-01],\n",
       "       [-1.27049562e+00,  5.85770352e-01, -8.55334364e-01,\n",
       "        -6.84654994e-01,  8.55334364e-01,  1.05314893e+00,\n",
       "         0.00000000e+00, -4.37856963e-01],\n",
       "       [ 1.98982509e-01, -4.84253840e-01,  2.76898161e-01,\n",
       "         3.57476000e-01, -2.76898161e-01, -1.49966037e-01,\n",
       "        -2.09089040e+00, -2.10608855e-01],\n",
       "       [ 2.04799461e-01, -5.86484893e-01,  2.85575219e-01,\n",
       "         3.69464505e-01, -2.85575219e-01, -1.50764541e-01,\n",
       "        -4.71280024e-02,  4.16034209e-01],\n",
       "       [ 1.81575924e-01, -3.82800827e-01,  2.51130633e-01,\n",
       "         3.22145352e-01, -2.51130633e-01, -1.44449156e-01,\n",
       "         1.43501385e-02, -6.45261320e-01],\n",
       "       [-8.01017491e-01,  5.15746160e-01, -7.23101839e-01,\n",
       "        -6.42524000e-01,  7.23101839e-01,  8.50033963e-01,\n",
       "         7.02303893e+00,  1.01683834e+00],\n",
       "       [-1.52835294e-01,  1.67485552e-01, -1.86395987e-01,\n",
       "        -2.10817809e-01,  1.86395987e-01,  1.69561088e-01,\n",
       "         2.86462543e-02, -8.24529902e-01],\n",
       "       [-5.59522533e-01,  4.29336740e-01, -5.71150439e-01,\n",
       "        -5.52929264e-01,  5.71150439e-01,  6.32630996e-01,\n",
       "        -6.54464019e-02,  5.85390151e-01],\n",
       "       [-3.41251112e-01,  3.12062094e-01, -3.84754452e-01,\n",
       "        -4.04730254e-01,  3.84754452e-01,  3.91424952e-01,\n",
       "         7.00488007e+00,  1.30182468e+00],\n",
       "       [-5.59522533e-01,  4.29336740e-01, -5.71150439e-01,\n",
       "        -5.52929264e-01,  5.71150439e-01,  6.32630996e-01,\n",
       "         2.86462543e-02, -8.24529902e-01],\n",
       "       [ 2.04799461e-01, -5.86484893e-01,  2.85575219e-01,\n",
       "         3.69464505e-01, -2.85575219e-01, -1.50764541e-01,\n",
       "        -3.60113783e-03, -2.56585015e-01],\n",
       "       [-1.32384453e+00,  5.86484893e-01, -8.56725658e-01,\n",
       "        -6.84699803e-01,  8.56725658e-01,  1.05535179e+00,\n",
       "         0.00000000e+00, -4.37856963e-01],\n",
       "       [ 1.93405181e-01, -4.43535836e-01,  2.68609610e-01,\n",
       "         3.46067033e-01, -2.68609610e-01, -1.48581447e-01,\n",
       "        -2.09089040e+00, -2.10608855e-01],\n",
       "       [-1.32384453e+00,  5.86484893e-01, -8.56725658e-01,\n",
       "        -6.84699803e-01,  8.56725658e-01,  1.05535179e+00,\n",
       "         1.43501385e-02, -6.45261320e-01],\n",
       "       [ 0.00000000e+00,  0.00000000e+00,  0.00000000e+00,\n",
       "         0.00000000e+00,  0.00000000e+00,  0.00000000e+00,\n",
       "        -3.98190516e-02,  2.63311046e-01],\n",
       "       [ 1.81575924e-01, -3.82800827e-01,  2.51130633e-01,\n",
       "         3.22145352e-01, -2.51130633e-01, -1.44449156e-01,\n",
       "        -2.16525576e-02,  0.00000000e+00],\n",
       "       [-3.41251112e-01,  3.12062094e-01, -3.84754452e-01,\n",
       "        -4.04730254e-01,  3.84754452e-01,  3.91424952e-01,\n",
       "         2.86462543e-02, -8.24529902e-01],\n",
       "       [-1.27049562e+00,  5.85770352e-01, -8.55334364e-01,\n",
       "        -6.84654994e-01,  8.55334364e-01,  1.05314893e+00,\n",
       "         2.86462543e-02, -8.24529902e-01],\n",
       "       [ 1.12610948e-01, -1.85305599e-01,  1.51951400e-01,\n",
       "         1.90013552e-01, -1.51951400e-01, -1.02509327e-01,\n",
       "         2.86462543e-02, -8.24529902e-01],\n",
       "       [-5.59522533e-01,  4.29336740e-01, -5.71150439e-01,\n",
       "        -5.52929264e-01,  5.71150439e-01,  6.32630996e-01,\n",
       "        -1.08090197e-02, -1.85591270e-01],\n",
       "       [-1.32384453e+00,  5.86484893e-01, -8.56725658e-01,\n",
       "        -6.84699803e-01,  8.56725658e-01,  1.05535179e+00,\n",
       "        -3.98190516e-02,  2.63311046e-01],\n",
       "       [ 1.81575924e-01, -3.82800827e-01,  2.51130633e-01,\n",
       "         3.22145352e-01, -2.51130633e-01, -1.44449156e-01,\n",
       "         7.03387287e+00,  7.97758303e-01],\n",
       "       [ 1.81575924e-01, -3.82800827e-01,  2.51130633e-01,\n",
       "         3.22145352e-01, -2.51130633e-01, -1.44449156e-01,\n",
       "         2.86462543e-02, -8.24529902e-01],\n",
       "       [ 2.02704508e-01, -5.25096398e-01,  2.82446398e-01,\n",
       "         3.65136355e-01, -2.82446398e-01, -1.50591644e-01,\n",
       "        -2.09089040e+00, -2.10608855e-01],\n",
       "       [-1.32384453e+00,  5.86484893e-01, -8.56725658e-01,\n",
       "        -6.84699803e-01,  8.56725658e-01,  1.05535179e+00,\n",
       "         7.04105086e+00,  5.62143037e-01],\n",
       "       [ 1.81575924e-01, -3.82800827e-01,  2.51130633e-01,\n",
       "         3.22145352e-01, -2.51130633e-01, -1.44449156e-01,\n",
       "        -2.13380262e+00,  1.30472429e-01],\n",
       "       [ 1.91721700e-01, -4.33381614e-01,  2.66113740e-01,\n",
       "         3.42639744e-01, -2.66113740e-01, -1.48082397e-01,\n",
       "         2.66007075e-01, -6.17999189e-01],\n",
       "       [ 2.04566641e-01, -5.66013748e-01,  2.85227290e-01,\n",
       "         3.68982915e-01, -2.85227290e-01, -1.50758130e-01,\n",
       "        -2.09089040e+00, -2.10608855e-01],\n",
       "       [-8.01017491e-01,  5.15746160e-01, -7.23101839e-01,\n",
       "        -6.42524000e-01,  7.23101839e-01,  8.50033963e-01,\n",
       "        -1.08090197e-02, -1.85591270e-01],\n",
       "       [ 2.04566641e-01, -5.66013748e-01,  2.85227290e-01,\n",
       "         3.68982915e-01, -2.85227290e-01, -1.50758130e-01,\n",
       "         4.50023897e+00,  9.09275110e-01],\n",
       "       [-1.52835294e-01,  1.67485552e-01, -1.86395987e-01,\n",
       "        -2.10817809e-01,  1.86395987e-01,  1.69561088e-01,\n",
       "         0.00000000e+00, -4.37856963e-01],\n",
       "       [-1.05839828e+00,  5.68664847e-01, -8.22281072e-01,\n",
       "        -6.79180058e-01,  8.22281072e-01,  1.00121184e+00,\n",
       "        -1.08090197e-02, -1.85591270e-01],\n",
       "       [ 1.98982509e-01, -4.84253840e-01,  2.76898161e-01,\n",
       "         3.57476000e-01, -2.76898161e-01, -1.49966037e-01,\n",
       "         4.50023897e+00,  9.09275110e-01],\n",
       "       [ 0.00000000e+00,  0.00000000e+00,  0.00000000e+00,\n",
       "         0.00000000e+00,  0.00000000e+00,  0.00000000e+00,\n",
       "         2.86462543e-02, -8.24529902e-01],\n",
       "       [-1.32384453e+00,  5.86484893e-01, -8.56725658e-01,\n",
       "        -6.84699803e-01,  8.56725658e-01,  1.05535179e+00,\n",
       "        -1.08090197e-02, -1.85591270e-01],\n",
       "       [ 2.04799461e-01, -5.86484893e-01,  2.85575219e-01,\n",
       "         3.69464505e-01, -2.85575219e-01, -1.50764541e-01,\n",
       "        -1.07962559e-02, -7.99919994e-02],\n",
       "       [-1.52835294e-01,  1.67485552e-01, -1.86395987e-01,\n",
       "        -2.10817809e-01,  1.86395987e-01,  1.69561088e-01,\n",
       "         1.43501385e-02, -6.45261320e-01],\n",
       "       [ 2.04799461e-01, -5.86484893e-01,  2.85575219e-01,\n",
       "         3.69464505e-01, -2.85575219e-01, -1.50764541e-01,\n",
       "        -2.09089040e+00, -2.10608855e-01],\n",
       "       [ 2.04799461e-01, -5.86484893e-01,  2.85575219e-01,\n",
       "         3.69464505e-01, -2.85575219e-01, -1.50764541e-01,\n",
       "        -5.07669486e-02,  5.02134216e-01],\n",
       "       [-8.01017491e-01,  5.15746160e-01, -7.23101839e-01,\n",
       "        -6.42524000e-01,  7.23101839e-01,  8.50033963e-01,\n",
       "        -6.54464019e-02,  5.85390151e-01],\n",
       "       [-3.41251112e-01,  3.12062094e-01, -3.84754452e-01,\n",
       "        -4.04730254e-01,  3.84754452e-01,  3.91424952e-01,\n",
       "         7.04105086e+00,  5.62143037e-01]])"
      ]
     },
     "execution_count": 10,
     "metadata": {},
     "output_type": "execute_result"
    }
   ],
   "source": [
    "svr=grid_search.best_estimator_\n",
    "svr.fit(Dimensionless_Attributes_Scaled,Dimensionless_Labels)\n",
    "svr.support_vectors_"
   ]
  },
  {
   "cell_type": "code",
   "execution_count": 11,
   "metadata": {},
   "outputs": [
    {
     "data": {
      "text/plain": [
       "array([[ 3.06657776e+00, -9.00000000e+00,  9.00000000e+00,\n",
       "        -3.85463295e+00, -9.00000000e+00,  9.74080436e-01,\n",
       "         3.97601306e+00,  5.00920670e-01, -8.86750484e-01,\n",
       "         2.47824520e+00,  1.80112128e+00,  9.00000000e+00,\n",
       "        -2.54569381e-01, -9.00000000e+00, -2.40361680e-01,\n",
       "         9.00000000e+00, -2.80675246e-01, -9.00000000e+00,\n",
       "         5.08891309e-02, -9.00000000e+00,  6.15155325e+00,\n",
       "         9.00000000e+00,  9.00000000e+00, -9.00000000e+00,\n",
       "         9.00000000e+00,  9.00000000e+00,  1.71022996e+00,\n",
       "         9.00000000e+00, -4.57131251e-01,  9.00000000e+00,\n",
       "         3.19288443e+00,  6.10385901e+00,  2.88053775e+00,\n",
       "         3.91608854e+00, -9.00000000e+00, -9.00000000e+00,\n",
       "         9.00000000e+00,  9.00000000e+00,  9.00000000e+00,\n",
       "         9.00000000e+00, -4.57115286e+00, -9.00000000e+00,\n",
       "         1.35834727e+00,  2.06609489e-01, -2.85929986e+00,\n",
       "        -9.00000000e+00,  9.00000000e+00,  4.33513863e-01,\n",
       "         8.22425848e+00, -1.21426148e+00,  1.16590156e+00,\n",
       "        -5.75110353e+00, -8.84823229e+00, -9.00000000e+00,\n",
       "        -9.00000000e+00, -1.71370602e+00,  9.00000000e+00,\n",
       "        -5.56274431e-01,  9.00000000e+00, -5.99505985e+00,\n",
       "        -3.09208938e+00,  9.00000000e+00, -9.00000000e+00,\n",
       "        -9.00000000e+00, -9.00000000e+00,  2.08717366e-03,\n",
       "        -9.00000000e+00,  5.18173677e-01, -9.00000000e+00,\n",
       "        -6.32028161e+00, -9.00000000e+00,  9.00000000e+00,\n",
       "        -9.00000000e+00,  9.00000000e+00,  2.89216682e+00,\n",
       "        -4.70847648e+00]])"
      ]
     },
     "execution_count": 11,
     "metadata": {},
     "output_type": "execute_result"
    }
   ],
   "source": [
    "svr.dual_coef_ "
   ]
  },
  {
   "cell_type": "code",
   "execution_count": 12,
   "metadata": {},
   "outputs": [
    {
     "data": {
      "text/plain": [
       "array([0.18509809])"
      ]
     },
     "execution_count": 12,
     "metadata": {},
     "output_type": "execute_result"
    }
   ],
   "source": [
    "svr.intercept_"
   ]
  },
  {
   "cell_type": "markdown",
   "metadata": {},
   "source": [
    "### 3.3.2. Pipeline\n",
    "\"Transformers are usually combined with classifiers, regressors or other estimators to build a composite estimator. The most common tool is a Pipeline. Pipeline is often used in combination with FeatureUnion which concatenates the output of transformers into a composite feature space.\" [2]\n",
    "In our application, we are going to form a regressor which first receives the fluids properties and pipe geometry for each observation, then scales the experimental results and finally, performs the prediction."
   ]
  },
  {
   "cell_type": "code",
   "execution_count": 13,
   "metadata": {},
   "outputs": [],
   "source": [
    "def drift_vel_calc(initial_data):\n",
    "    def input_transformer(initial_data):\n",
    "        import numpy as np\n",
    "        import pandas as pd\n",
    "        inputdf=pd.DataFrame()\n",
    "        inputdf['Cos(Angle)']=np.cos(initial_data['theta [rad]'])\n",
    "        inputdf['Sin(Angle)']=np.sin(initial_data['theta [rad]'])\n",
    "        inputdf['Buoyancy Reynolds R']=np.sqrt(initial_data['Diameter [m]']**3*initial_data['g [m/s2]']*(initial_data['rhoL [kg/m3]']-initial_data['rhoG [kg/m3]'])*initial_data['rhoL [kg/m3]'])/initial_data['muL [Pa.s]']\n",
    "        inputdf['Eotvos Number Eo']=(initial_data['rhoL [kg/m3]']-initial_data['rhoG [kg/m3]'])*initial_data['g [m/s2]']*initial_data['Diameter [m]']**2/initial_data['sigma [N/m]']\n",
    "        inputdf['Cos(Angle)^2']=inputdf['Cos(Angle)']**2\n",
    "        inputdf['Cos(Angle)^3']=inputdf['Cos(Angle)']**3\n",
    "        inputdf['Sin(Angle)^2']=inputdf['Sin(Angle)']**2\n",
    "        inputdf['Sin(Angle)^3']=inputdf['Sin(Angle)']**3\n",
    "        inputdf['Ln(Eo)']=np.log(inputdf['Eotvos Number Eo'])\n",
    "        inputdf['Ln(R)']=np.log(inputdf['Buoyancy Reynolds R'])\n",
    "        inputdf=inputdf.drop('Eotvos Number Eo',axis=1)\n",
    "        inputdf=inputdf.drop('Buoyancy Reynolds R',axis=1)\n",
    "        return inputdf\n",
    "    from sklearn.pipeline import make_pipeline\n",
    "    from sklearn.preprocessing import FunctionTransformer\n",
    "    svr_estimator=make_pipeline(FunctionTransformer(input_transformer,validate=False),scaler,svr)\n",
    "    Fr_pipe=svr_estimator.predict(initial_data)\n",
    "    V_d_pipe=Fr_pipe*(np.cos(initial_data['theta [rad]'])+np.sin(initial_data['theta [rad]']))*np.power(initial_data['g [m/s2]']*initial_data['Diameter [m]']*(1-initial_data['rhoG [kg/m3]']/initial_data['rhoL [kg/m3]']),0.5)\n",
    "    return V_d_pipe\n",
    "\n",
    "from sklearn.preprocessing import FunctionTransformer\n",
    "drift_vel_estimator=FunctionTransformer(drift_vel_calc,validate=False)"
   ]
  },
  {
   "cell_type": "markdown",
   "metadata": {},
   "source": [
    "### 3.4. Saving the Model\n",
    "The model is available to download from the following link:\n",
    "https://github.com/VictorPuglieseManotas/Research/blob/master/drift_velocity_regressor.joblib\n",
    "\n",
    "The file must be saved in the working directory."
   ]
  },
  {
   "cell_type": "code",
   "execution_count": 14,
   "metadata": {},
   "outputs": [
    {
     "data": {
      "text/plain": [
       "['drift_velocity_estimator.joblib']"
      ]
     },
     "execution_count": 14,
     "metadata": {},
     "output_type": "execute_result"
    }
   ],
   "source": [
    "from sklearn.externals import joblib\n",
    "joblib.dump(drift_vel_estimator,'drift_velocity_estimator.joblib')"
   ]
  },
  {
   "cell_type": "markdown",
   "metadata": {},
   "source": [
    "### 3.5. Loading Model\n",
    "To load the estimator in the user can use the following code:"
   ]
  },
  {
   "cell_type": "code",
   "execution_count": 15,
   "metadata": {},
   "outputs": [],
   "source": [
    "drift_vel_estimator_loaded=joblib.load('drift_velocity_estimator.joblib')"
   ]
  },
  {
   "cell_type": "markdown",
   "metadata": {},
   "source": [
    "### 3.6. Model Evaluation\n",
    "For evaluation purpose, we are going to use the experimental data gather by Dr. Eghorieta, who got drift velocity of Taylor bubble in high viscosity oil for inclination angles from 0° to 10°. Also, we are going to present the prediction performance of Livinus et. al. model [3]\n",
    "\n",
    "First, we check the performance using the Train Set."
   ]
  },
  {
   "cell_type": "code",
   "execution_count": 16,
   "metadata": {},
   "outputs": [
    {
     "data": {
      "text/plain": [
       "Text(0.5,1,'Performance with Train Set')"
      ]
     },
     "execution_count": 16,
     "metadata": {},
     "output_type": "execute_result"
    },
    {
     "data": {
      "image/png": "[encoded data removed]",
      "text/plain": [
       "<Figure size 432x288 with 1 Axes>"
      ]
     },
     "metadata": {},
     "output_type": "display_data"
    }
   ],
   "source": [
    "Dimensionless_Attributes=Dimensionless_Attributes_for_eval\n",
    "\n",
    "Fr_l=np.power(10,-(0.0000007928*np.power(-np.log10(np.asarray(Dimensionless_Attributes['Buoyancy Reynolds R']/Dimensionless_Attributes['Eotvos Number Eo'])),7.443)+0.3276))\n",
    "Fr_Livinus=Fr_l*np.asarray(Dimensionless_Attributes['Cos(Angle)']+Dimensionless_Attributes['Sin(Angle)'])\n",
    "\n",
    "Fr_svr=svr.predict(Dimensionless_Attributes_Scaled)\n",
    "\n",
    "plt.scatter(Dimensionless_Labels,Fr_Livinus,c='c')\n",
    "plt.scatter(Dimensionless_Labels,Fr_svr,c='b')\n",
    "plt.scatter(Dimensionless_Labels,Dimensionless_Labels,c='r')\n",
    "plt.xlabel(\"Froud Number Experiments\")\n",
    "plt.ylabel(\"Froud Number\")\n",
    "plt.legend((\"Predicted by Livinus\",\"Predicted by SVR\",\"Target\"),loc='bottom right')\n",
    "plt.title(\"Performance with Train Set\")"
   ]
  },
  {
   "cell_type": "code",
   "execution_count": 17,
   "metadata": {},
   "outputs": [
    {
     "data": {
      "text/plain": [
       "Text(0.5,1,'Drift Velocity Prediction - Train Set')"
      ]
     },
     "execution_count": 17,
     "metadata": {},
     "output_type": "execute_result"
    },
    {
     "data": {
      "image/png": "[encoded data removed]",
      "text/plain": [
       "<Figure size 432x288 with 1 Axes>"
      ]
     },
     "metadata": {},
     "output_type": "display_data"
    }
   ],
   "source": [
    "V_d_Livinus=Fr_Livinus*np.power(9.80665*D*(1-rho_G/rho_L),0.5)\n",
    "V_d_svr=Fr_svr*np.power(9.80665*D*(1-rho_G/rho_L),0.5)\n",
    "\n",
    "plt.scatter(V_d_real,V_d_Livinus,c='c')\n",
    "plt.scatter(V_d_real,V_d_svr,c='b')\n",
    "plt.scatter(V_d_real,V_d_real,c='r')\n",
    "plt.xlabel(\"Drift Velocity Experiments [m/s]\")\n",
    "plt.ylabel(\"Drift Velocity\")\n",
    "plt.legend((\"Predicted by Livinus\",\"Predicted by SVR\",\"Target\"),loc='bottom right')\n",
    "plt.title(\"Drift Velocity Prediction - Train Set\")"
   ]
  },
  {
   "cell_type": "markdown",
   "metadata": {},
   "source": [
    "Now, we evaluate the performance using the Test Set."
   ]
  },
  {
   "cell_type": "code",
   "execution_count": 18,
   "metadata": {},
   "outputs": [
    {
     "data": {
      "text/plain": [
       "Text(0.5,1,'Performance with Test Set')"
      ]
     },
     "execution_count": 18,
     "metadata": {},
     "output_type": "execute_result"
    },
    {
     "data": {
      "image/png": "[encoded data removed]",
      "text/plain": [
       "<Figure size 432x288 with 1 Axes>"
      ]
     },
     "metadata": {},
     "output_type": "display_data"
    }
   ],
   "source": [
    "Test_Set=pd.read_excel(r\"C:\\Users\\victo\\Test_Set_Drift_Velocity_Analysis_O.xlsx\")\n",
    "\n",
    "Fr_real=np.asarray(Test_Set['Froud Number Fr'])\n",
    "V_d_real=np.asarray(Test_Set['Drift Velocity [m/s]'])\n",
    "\n",
    "Fr_l=np.power(10,-(0.0000007928*np.power(-np.log10(np.asarray(Test_Set['Buoyancy Reynolds R']/Test_Set['Eotvos Number Eo'])),7.443)+0.3276))\n",
    "Fr_Livinus=Fr_l*np.asarray(Test_Set['Cos(Angle)']+Test_Set['Sin(Angle)'])\n",
    "\n",
    "Test_Set=Test_Set.drop(Test_Set.columns[[0,3,4,5,6,7,8,9,10,11,14,15]], axis=1)\n",
    "Test_Set['Cos(Angle)^2']=Test_Set['Cos(Angle)']**2\n",
    "Test_Set['Cos(Angle)^3']=Test_Set['Cos(Angle)']**3\n",
    "Test_Set['Sin(Angle)^2']=Test_Set['Sin(Angle)']**2\n",
    "Test_Set['Sin(Angle)^3']=Test_Set['Sin(Angle)']**3\n",
    "Test_Set['Ln(Eo)']=np.log(Test_Set['Eotvos Number Eo'])\n",
    "Test_Set['Ln(R)']=np.log(Test_Set['Buoyancy Reynolds R'])\n",
    "Test_Set=Test_Set.drop('Eotvos Number Eo',axis=1)\n",
    "Test_Set=Test_Set.drop('Buoyancy Reynolds R',axis=1)\n",
    "\n",
    "Fr_svr_Test=svr.predict(scaler.transform(Test_Set))\n",
    "\n",
    "plt.scatter(Fr_real,Fr_Livinus,c='c')\n",
    "plt.scatter(Fr_real,Fr_svr_Test,c='b')\n",
    "plt.scatter(Fr_real,Fr_real,c='r')\n",
    "plt.xlabel(\"Froud Number Experiments\")\n",
    "plt.ylabel(\"Froud Number\")\n",
    "plt.legend((\"Predicted by Livinus\",\"Predicted by SVR\",\"Target\"),loc='bottom right')\n",
    "plt.title(\"Performance with Test Set\")"
   ]
  },
  {
   "cell_type": "markdown",
   "metadata": {},
   "source": [
    "For Livinus et.al. model, the drift velocity can therefore be calculated from the following equation, using the predicted Froud Number:\n",
    "v_d=Fr[gD(1-rho_g/rho_l)]^0.5\n"
   ]
  },
  {
   "cell_type": "code",
   "execution_count": 19,
   "metadata": {},
   "outputs": [
    {
     "data": {
      "text/plain": [
       "Text(0.5,1,'Drift Velocity Prediction - Test Set')"
      ]
     },
     "execution_count": 19,
     "metadata": {},
     "output_type": "execute_result"
    },
    {
     "data": {
      "image/png": "[encoded data removed]",
      "text/plain": [
       "<Figure size 432x288 with 1 Axes>"
      ]
     },
     "metadata": {},
     "output_type": "display_data"
    }
   ],
   "source": [
    "Test_Set=pd.read_excel(r\"C:\\Users\\victo\\Test_Set_Drift_Velocity_Analysis_O.xlsx\")\n",
    "\n",
    "D=np.asarray(Test_Set['Diameter [m]'])\n",
    "rho_L=np.asarray(Test_Set['rhoL [kg/m3]'])\n",
    "rho_G=np.asarray(Test_Set['rhoG [kg/m3]'])\n",
    "\n",
    "V_d_Livinus=Fr_Livinus*np.power(9.80665*D*(1-rho_G/rho_L),0.5)\n",
    "\n",
    "\n",
    "Test_Set['theta [rad]']=np.pi*Test_Set['Inclination [°]']/180\n",
    "Test_Set=Test_Set.drop(Test_Set.columns[[0,1,2,3,8,10,11,12,13,14,15]], axis=1)\n",
    "Test_Set['g [m/s2]']=9.80665*np.ones(len(Test_Set))\n",
    "\n",
    "V_d_svr=drift_vel_estimator_loaded.transform(Test_Set)\n",
    "\n",
    "plt.scatter(V_d_real,V_d_Livinus,c='c')\n",
    "plt.scatter(V_d_real,V_d_svr,c='b')\n",
    "plt.scatter(V_d_real,V_d_real,c='r')\n",
    "plt.xlabel(\"Drift Velocity Experiments [m/s]\")\n",
    "plt.ylabel(\"Drift Velocity\")\n",
    "plt.legend((\"Predicted by Livinus\",\"Predicted by SVR\",\"Target\"),loc='bottom right')\n",
    "plt.title(\"Drift Velocity Prediction - Test Set\")"
   ]
  },
  {
   "cell_type": "markdown",
   "metadata": {},
   "source": [
    "It is important to note that the input for the \"drift_velocity_estimator\" must be a panda DataFrame, as follow:"
   ]
  },
  {
   "cell_type": "code",
   "execution_count": 20,
   "metadata": {},
   "outputs": [
    {
     "data": {
      "text/html": [
       "<div>\n",
       "<style scoped>\n",
       "    .dataframe tbody tr th:only-of-type {\n",
       "        vertical-align: middle;\n",
       "    }\n",
       "\n",
       "    .dataframe tbody tr th {\n",
       "        vertical-align: top;\n",
       "    }\n",
       "\n",
       "    .dataframe thead th {\n",
       "        text-align: right;\n",
       "    }\n",
       "</style>\n",
       "<table border=\"1\" class=\"dataframe\">\n",
       "  <thead>\n",
       "    <tr style=\"text-align: right;\">\n",
       "      <th></th>\n",
       "      <th>rhoL [kg/m3]</th>\n",
       "      <th>rhoG [kg/m3]</th>\n",
       "      <th>muL [Pa.s]</th>\n",
       "      <th>sigma [N/m]</th>\n",
       "      <th>Diameter [m]</th>\n",
       "      <th>theta [rad]</th>\n",
       "      <th>g [m/s2]</th>\n",
       "    </tr>\n",
       "  </thead>\n",
       "  <tbody>\n",
       "    <tr>\n",
       "      <th>0</th>\n",
       "      <td>889.0</td>\n",
       "      <td>1.225</td>\n",
       "      <td>0.14</td>\n",
       "      <td>0.025</td>\n",
       "      <td>0.037592</td>\n",
       "      <td>0.000000</td>\n",
       "      <td>9.80665</td>\n",
       "    </tr>\n",
       "    <tr>\n",
       "      <th>1</th>\n",
       "      <td>889.0</td>\n",
       "      <td>1.225</td>\n",
       "      <td>0.14</td>\n",
       "      <td>0.025</td>\n",
       "      <td>0.037592</td>\n",
       "      <td>0.017453</td>\n",
       "      <td>9.80665</td>\n",
       "    </tr>\n",
       "    <tr>\n",
       "      <th>2</th>\n",
       "      <td>889.0</td>\n",
       "      <td>1.225</td>\n",
       "      <td>0.14</td>\n",
       "      <td>0.025</td>\n",
       "      <td>0.037592</td>\n",
       "      <td>0.052360</td>\n",
       "      <td>9.80665</td>\n",
       "    </tr>\n",
       "    <tr>\n",
       "      <th>3</th>\n",
       "      <td>889.0</td>\n",
       "      <td>1.225</td>\n",
       "      <td>0.14</td>\n",
       "      <td>0.025</td>\n",
       "      <td>0.037592</td>\n",
       "      <td>0.087266</td>\n",
       "      <td>9.80665</td>\n",
       "    </tr>\n",
       "    <tr>\n",
       "      <th>4</th>\n",
       "      <td>889.0</td>\n",
       "      <td>1.225</td>\n",
       "      <td>0.14</td>\n",
       "      <td>0.025</td>\n",
       "      <td>0.037592</td>\n",
       "      <td>0.122173</td>\n",
       "      <td>9.80665</td>\n",
       "    </tr>\n",
       "  </tbody>\n",
       "</table>\n",
       "</div>"
      ],
      "text/plain": [
       "   rhoL [kg/m3]  rhoG [kg/m3]  muL [Pa.s]  sigma [N/m]  Diameter [m]  \\\n",
       "0         889.0         1.225        0.14        0.025      0.037592   \n",
       "1         889.0         1.225        0.14        0.025      0.037592   \n",
       "2         889.0         1.225        0.14        0.025      0.037592   \n",
       "3         889.0         1.225        0.14        0.025      0.037592   \n",
       "4         889.0         1.225        0.14        0.025      0.037592   \n",
       "\n",
       "   theta [rad]  g [m/s2]  \n",
       "0     0.000000   9.80665  \n",
       "1     0.017453   9.80665  \n",
       "2     0.052360   9.80665  \n",
       "3     0.087266   9.80665  \n",
       "4     0.122173   9.80665  "
      ]
     },
     "execution_count": 20,
     "metadata": {},
     "output_type": "execute_result"
    }
   ],
   "source": [
    "Test_Set.head()"
   ]
  },
  {
   "cell_type": "markdown",
   "metadata": {},
   "source": [
    "According the Froud Number prediction from the Suppor Vector Machine Regressor, we can see that a simplified model, using a constant Froud number can perform a good drift velocity prediction."
   ]
  },
  {
   "cell_type": "code",
   "execution_count": 21,
   "metadata": {},
   "outputs": [
    {
     "data": {
      "text/plain": [
       "Text(0.5,1,'Drift Velocity Prediction')"
      ]
     },
     "execution_count": 21,
     "metadata": {},
     "output_type": "execute_result"
    },
    {
     "data": {
      "image/png": "[encoded data removed]",
      "text/plain": [
       "<Figure size 432x288 with 1 Axes>"
      ]
     },
     "metadata": {},
     "output_type": "display_data"
    }
   ],
   "source": [
    "V_d_simplified=0.36219587*(np.cos(Test_Set['theta [rad]'])+np.sin(Test_Set['theta [rad]']))*np.power(Test_Set['g [m/s2]']*Test_Set['Diameter [m]']*(1-Test_Set['rhoG [kg/m3]']/Test_Set['rhoL [kg/m3]'])*np.power(Test_Set['muL [Pa.s]'],-0.00005),0.8)\n",
    "\n",
    "plt.scatter(V_d_real,V_d_simplified,c='y')\n",
    "plt.scatter(V_d_real,V_d_real,c='r')\n",
    "plt.xlabel(\"Drift Velocity Experiments [m/s]\")\n",
    "plt.ylabel(\"Drift Velocity\")\n",
    "plt.legend((\"Simplified Model\",\"Target\"),loc='bottom right')\n",
    "plt.title(\"Drift Velocity Prediction\")"
   ]
  },
  {
   "cell_type": "markdown",
   "metadata": {},
   "source": [
    "Now, we use the mean squared error and the r2 score as metrics to measure the performance of the model."
   ]
  },
  {
   "cell_type": "code",
   "execution_count": 22,
   "metadata": {},
   "outputs": [
    {
     "data": {
      "text/plain": [
       "0.013802881994733791"
      ]
     },
     "execution_count": 22,
     "metadata": {},
     "output_type": "execute_result"
    }
   ],
   "source": [
    "from sklearn.metrics import mean_squared_error\n",
    "\n",
    "mean_squared_error(V_d_real,V_d_Livinus)"
   ]
  },
  {
   "cell_type": "code",
   "execution_count": 23,
   "metadata": {},
   "outputs": [
    {
     "data": {
      "text/plain": [
       "0.0036242749309660666"
      ]
     },
     "execution_count": 23,
     "metadata": {},
     "output_type": "execute_result"
    }
   ],
   "source": [
    "mean_squared_error(V_d_real,V_d_svr)"
   ]
  },
  {
   "cell_type": "code",
   "execution_count": 24,
   "metadata": {},
   "outputs": [
    {
     "data": {
      "text/plain": [
       "0.0026076783451488158"
      ]
     },
     "execution_count": 24,
     "metadata": {},
     "output_type": "execute_result"
    }
   ],
   "source": [
    "mean_squared_error(V_d_real,V_d_simplified)"
   ]
  },
  {
   "cell_type": "code",
   "execution_count": 25,
   "metadata": {},
   "outputs": [
    {
     "data": {
      "text/plain": [
       "0.31083583405972315"
      ]
     },
     "execution_count": 25,
     "metadata": {},
     "output_type": "execute_result"
    }
   ],
   "source": [
    "relative_error(V_d_real,V_d_Livinus)"
   ]
  },
  {
   "cell_type": "code",
   "execution_count": 26,
   "metadata": {},
   "outputs": [
    {
     "data": {
      "text/plain": [
       "0.1377474403831086"
      ]
     },
     "execution_count": 26,
     "metadata": {},
     "output_type": "execute_result"
    }
   ],
   "source": [
    "relative_error(V_d_real,V_d_svr)"
   ]
  },
  {
   "cell_type": "code",
   "execution_count": 27,
   "metadata": {},
   "outputs": [
    {
     "data": {
      "text/plain": [
       "0.12118619296449928"
      ]
     },
     "execution_count": 27,
     "metadata": {},
     "output_type": "execute_result"
    }
   ],
   "source": [
    "relative_error(V_d_real,V_d_simplified)"
   ]
  },
  {
   "cell_type": "markdown",
   "metadata": {},
   "source": [
    "## 4. References\n",
    "[1] http://scikit-learn.org/stable/modules/preprocessing.html\n",
    "\n",
    "[2] http://scikit-learn.org/stable/modules/compose.html#combining-estimators\n",
    "\n",
    "[3] Livinus, Aniefiok, Patrick Verdin, Liyun Lao, Jan Nossen, Morten Langsholt, and Hans-Gunnar Sleipnaes. \"Simplified generalised drift velocity correlation for elongated bubbles in liquid in pipes.\" Journal of Petroleum Science and Engineering. Vol. 160, 2018: 106-118.\n"
   ]
  }
 ],
 "metadata": {
  "kernelspec": {
   "display_name": "Python 3",
   "language": "python",
   "name": "python3"
  },
  "language_info": {
   "codemirror_mode": {
    "name": "ipython",
    "version": 3
   },
   "file_extension": ".py",
   "mimetype": "text/x-python",
   "name": "python",
   "nbconvert_exporter": "python",
   "pygments_lexer": "ipython3",
   "version": "3.6.5"
  }
 },
 "nbformat": 4,
 "nbformat_minor": 2
}
